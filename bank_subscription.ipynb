{
 "cells": [
  {
   "cell_type": "markdown",
   "id": "87283cd8",
   "metadata": {},
   "source": [
    "# Predicting customer subscription using Bank data"
   ]
  },
  {
   "cell_type": "markdown",
   "id": "8391636b",
   "metadata": {},
   "source": [
    "This model is being built to predict if a customer will subscribe to a bank account using bank data"
   ]
  },
  {
   "cell_type": "code",
   "execution_count": 1,
   "id": "1f2fc43b",
   "metadata": {},
   "outputs": [],
   "source": [
    "# Import libraries\n",
    "import pandas as pd"
   ]
  },
  {
   "cell_type": "code",
   "execution_count": 2,
   "id": "8c2ac081",
   "metadata": {},
   "outputs": [],
   "source": [
    "# Load the data\n",
    "banking_df = pd.read_csv('bank-additional-full.csv', sep = ';')"
   ]
  },
  {
   "cell_type": "code",
   "execution_count": 3,
   "id": "3aa41f62",
   "metadata": {},
   "outputs": [
    {
     "data": {
      "text/html": [
       "<div>\n",
       "<style scoped>\n",
       "    .dataframe tbody tr th:only-of-type {\n",
       "        vertical-align: middle;\n",
       "    }\n",
       "\n",
       "    .dataframe tbody tr th {\n",
       "        vertical-align: top;\n",
       "    }\n",
       "\n",
       "    .dataframe thead th {\n",
       "        text-align: right;\n",
       "    }\n",
       "</style>\n",
       "<table border=\"1\" class=\"dataframe\">\n",
       "  <thead>\n",
       "    <tr style=\"text-align: right;\">\n",
       "      <th></th>\n",
       "      <th>age</th>\n",
       "      <th>job</th>\n",
       "      <th>marital</th>\n",
       "      <th>education</th>\n",
       "      <th>default</th>\n",
       "      <th>housing</th>\n",
       "      <th>loan</th>\n",
       "      <th>contact</th>\n",
       "      <th>month</th>\n",
       "      <th>day_of_week</th>\n",
       "      <th>...</th>\n",
       "      <th>campaign</th>\n",
       "      <th>pdays</th>\n",
       "      <th>previous</th>\n",
       "      <th>poutcome</th>\n",
       "      <th>emp.var.rate</th>\n",
       "      <th>cons.price.idx</th>\n",
       "      <th>cons.conf.idx</th>\n",
       "      <th>euribor3m</th>\n",
       "      <th>nr.employed</th>\n",
       "      <th>y</th>\n",
       "    </tr>\n",
       "  </thead>\n",
       "  <tbody>\n",
       "    <tr>\n",
       "      <th>0</th>\n",
       "      <td>56</td>\n",
       "      <td>housemaid</td>\n",
       "      <td>married</td>\n",
       "      <td>basic.4y</td>\n",
       "      <td>no</td>\n",
       "      <td>no</td>\n",
       "      <td>no</td>\n",
       "      <td>telephone</td>\n",
       "      <td>may</td>\n",
       "      <td>mon</td>\n",
       "      <td>...</td>\n",
       "      <td>1</td>\n",
       "      <td>999</td>\n",
       "      <td>0</td>\n",
       "      <td>nonexistent</td>\n",
       "      <td>1.1</td>\n",
       "      <td>93.994</td>\n",
       "      <td>-36.4</td>\n",
       "      <td>4.857</td>\n",
       "      <td>5191.0</td>\n",
       "      <td>no</td>\n",
       "    </tr>\n",
       "    <tr>\n",
       "      <th>1</th>\n",
       "      <td>57</td>\n",
       "      <td>services</td>\n",
       "      <td>married</td>\n",
       "      <td>high.school</td>\n",
       "      <td>unknown</td>\n",
       "      <td>no</td>\n",
       "      <td>no</td>\n",
       "      <td>telephone</td>\n",
       "      <td>may</td>\n",
       "      <td>mon</td>\n",
       "      <td>...</td>\n",
       "      <td>1</td>\n",
       "      <td>999</td>\n",
       "      <td>0</td>\n",
       "      <td>nonexistent</td>\n",
       "      <td>1.1</td>\n",
       "      <td>93.994</td>\n",
       "      <td>-36.4</td>\n",
       "      <td>4.857</td>\n",
       "      <td>5191.0</td>\n",
       "      <td>no</td>\n",
       "    </tr>\n",
       "    <tr>\n",
       "      <th>2</th>\n",
       "      <td>37</td>\n",
       "      <td>services</td>\n",
       "      <td>married</td>\n",
       "      <td>high.school</td>\n",
       "      <td>no</td>\n",
       "      <td>yes</td>\n",
       "      <td>no</td>\n",
       "      <td>telephone</td>\n",
       "      <td>may</td>\n",
       "      <td>mon</td>\n",
       "      <td>...</td>\n",
       "      <td>1</td>\n",
       "      <td>999</td>\n",
       "      <td>0</td>\n",
       "      <td>nonexistent</td>\n",
       "      <td>1.1</td>\n",
       "      <td>93.994</td>\n",
       "      <td>-36.4</td>\n",
       "      <td>4.857</td>\n",
       "      <td>5191.0</td>\n",
       "      <td>no</td>\n",
       "    </tr>\n",
       "    <tr>\n",
       "      <th>3</th>\n",
       "      <td>40</td>\n",
       "      <td>admin.</td>\n",
       "      <td>married</td>\n",
       "      <td>basic.6y</td>\n",
       "      <td>no</td>\n",
       "      <td>no</td>\n",
       "      <td>no</td>\n",
       "      <td>telephone</td>\n",
       "      <td>may</td>\n",
       "      <td>mon</td>\n",
       "      <td>...</td>\n",
       "      <td>1</td>\n",
       "      <td>999</td>\n",
       "      <td>0</td>\n",
       "      <td>nonexistent</td>\n",
       "      <td>1.1</td>\n",
       "      <td>93.994</td>\n",
       "      <td>-36.4</td>\n",
       "      <td>4.857</td>\n",
       "      <td>5191.0</td>\n",
       "      <td>no</td>\n",
       "    </tr>\n",
       "    <tr>\n",
       "      <th>4</th>\n",
       "      <td>56</td>\n",
       "      <td>services</td>\n",
       "      <td>married</td>\n",
       "      <td>high.school</td>\n",
       "      <td>no</td>\n",
       "      <td>no</td>\n",
       "      <td>yes</td>\n",
       "      <td>telephone</td>\n",
       "      <td>may</td>\n",
       "      <td>mon</td>\n",
       "      <td>...</td>\n",
       "      <td>1</td>\n",
       "      <td>999</td>\n",
       "      <td>0</td>\n",
       "      <td>nonexistent</td>\n",
       "      <td>1.1</td>\n",
       "      <td>93.994</td>\n",
       "      <td>-36.4</td>\n",
       "      <td>4.857</td>\n",
       "      <td>5191.0</td>\n",
       "      <td>no</td>\n",
       "    </tr>\n",
       "  </tbody>\n",
       "</table>\n",
       "<p>5 rows × 21 columns</p>\n",
       "</div>"
      ],
      "text/plain": [
       "   age        job  marital    education  default housing loan    contact   \n",
       "0   56  housemaid  married     basic.4y       no      no   no  telephone  \\\n",
       "1   57   services  married  high.school  unknown      no   no  telephone   \n",
       "2   37   services  married  high.school       no     yes   no  telephone   \n",
       "3   40     admin.  married     basic.6y       no      no   no  telephone   \n",
       "4   56   services  married  high.school       no      no  yes  telephone   \n",
       "\n",
       "  month day_of_week  ...  campaign  pdays  previous     poutcome emp.var.rate   \n",
       "0   may         mon  ...         1    999         0  nonexistent          1.1  \\\n",
       "1   may         mon  ...         1    999         0  nonexistent          1.1   \n",
       "2   may         mon  ...         1    999         0  nonexistent          1.1   \n",
       "3   may         mon  ...         1    999         0  nonexistent          1.1   \n",
       "4   may         mon  ...         1    999         0  nonexistent          1.1   \n",
       "\n",
       "   cons.price.idx  cons.conf.idx  euribor3m  nr.employed   y  \n",
       "0          93.994          -36.4      4.857       5191.0  no  \n",
       "1          93.994          -36.4      4.857       5191.0  no  \n",
       "2          93.994          -36.4      4.857       5191.0  no  \n",
       "3          93.994          -36.4      4.857       5191.0  no  \n",
       "4          93.994          -36.4      4.857       5191.0  no  \n",
       "\n",
       "[5 rows x 21 columns]"
      ]
     },
     "execution_count": 3,
     "metadata": {},
     "output_type": "execute_result"
    }
   ],
   "source": [
    "banking_df.head()"
   ]
  },
  {
   "cell_type": "code",
   "execution_count": 4,
   "id": "6b2b762f",
   "metadata": {},
   "outputs": [
    {
     "data": {
      "text/plain": [
       "object     11\n",
       "int64       5\n",
       "float64     5\n",
       "Name: count, dtype: int64"
      ]
     },
     "execution_count": 4,
     "metadata": {},
     "output_type": "execute_result"
    }
   ],
   "source": [
    "banking_df.dtypes.value_counts()"
   ]
  },
  {
   "cell_type": "code",
   "execution_count": 5,
   "id": "218b3e6f",
   "metadata": {},
   "outputs": [
    {
     "data": {
      "text/plain": [
       "(41188, 21)"
      ]
     },
     "execution_count": 5,
     "metadata": {},
     "output_type": "execute_result"
    }
   ],
   "source": [
    "banking_df.shape"
   ]
  },
  {
   "cell_type": "code",
   "execution_count": 6,
   "id": "99c19700",
   "metadata": {},
   "outputs": [
    {
     "data": {
      "text/plain": [
       "age               0\n",
       "job               0\n",
       "marital           0\n",
       "education         0\n",
       "default           0\n",
       "housing           0\n",
       "loan              0\n",
       "contact           0\n",
       "month             0\n",
       "day_of_week       0\n",
       "duration          0\n",
       "campaign          0\n",
       "pdays             0\n",
       "previous          0\n",
       "poutcome          0\n",
       "emp.var.rate      0\n",
       "cons.price.idx    0\n",
       "cons.conf.idx     0\n",
       "euribor3m         0\n",
       "nr.employed       0\n",
       "y                 0\n",
       "dtype: int64"
      ]
     },
     "execution_count": 6,
     "metadata": {},
     "output_type": "execute_result"
    }
   ],
   "source": [
    "banking_df.isnull().sum()"
   ]
  },
  {
   "cell_type": "code",
   "execution_count": 7,
   "id": "e8d7ec3d",
   "metadata": {},
   "outputs": [
    {
     "data": {
      "text/plain": [
       "y\n",
       "no     36548\n",
       "yes     4640\n",
       "Name: count, dtype: int64"
      ]
     },
     "execution_count": 7,
     "metadata": {},
     "output_type": "execute_result"
    }
   ],
   "source": [
    "banking_df['y'].value_counts()"
   ]
  },
  {
   "cell_type": "code",
   "execution_count": 8,
   "id": "cc135335",
   "metadata": {},
   "outputs": [
    {
     "data": {
      "text/html": [
       "<div>\n",
       "<style scoped>\n",
       "    .dataframe tbody tr th:only-of-type {\n",
       "        vertical-align: middle;\n",
       "    }\n",
       "\n",
       "    .dataframe tbody tr th {\n",
       "        vertical-align: top;\n",
       "    }\n",
       "\n",
       "    .dataframe thead th {\n",
       "        text-align: right;\n",
       "    }\n",
       "</style>\n",
       "<table border=\"1\" class=\"dataframe\">\n",
       "  <thead>\n",
       "    <tr style=\"text-align: right;\">\n",
       "      <th></th>\n",
       "      <th>age</th>\n",
       "      <th>duration</th>\n",
       "      <th>campaign</th>\n",
       "      <th>pdays</th>\n",
       "      <th>previous</th>\n",
       "      <th>emp.var.rate</th>\n",
       "      <th>cons.price.idx</th>\n",
       "      <th>cons.conf.idx</th>\n",
       "      <th>euribor3m</th>\n",
       "      <th>nr.employed</th>\n",
       "    </tr>\n",
       "  </thead>\n",
       "  <tbody>\n",
       "    <tr>\n",
       "      <th>count</th>\n",
       "      <td>41188.00000</td>\n",
       "      <td>41188.000000</td>\n",
       "      <td>41188.000000</td>\n",
       "      <td>41188.000000</td>\n",
       "      <td>41188.000000</td>\n",
       "      <td>41188.000000</td>\n",
       "      <td>41188.000000</td>\n",
       "      <td>41188.000000</td>\n",
       "      <td>41188.000000</td>\n",
       "      <td>41188.000000</td>\n",
       "    </tr>\n",
       "    <tr>\n",
       "      <th>mean</th>\n",
       "      <td>40.02406</td>\n",
       "      <td>258.285010</td>\n",
       "      <td>2.567593</td>\n",
       "      <td>962.475454</td>\n",
       "      <td>0.172963</td>\n",
       "      <td>0.081886</td>\n",
       "      <td>93.575664</td>\n",
       "      <td>-40.502600</td>\n",
       "      <td>3.621291</td>\n",
       "      <td>5167.035911</td>\n",
       "    </tr>\n",
       "    <tr>\n",
       "      <th>std</th>\n",
       "      <td>10.42125</td>\n",
       "      <td>259.279249</td>\n",
       "      <td>2.770014</td>\n",
       "      <td>186.910907</td>\n",
       "      <td>0.494901</td>\n",
       "      <td>1.570960</td>\n",
       "      <td>0.578840</td>\n",
       "      <td>4.628198</td>\n",
       "      <td>1.734447</td>\n",
       "      <td>72.251528</td>\n",
       "    </tr>\n",
       "    <tr>\n",
       "      <th>min</th>\n",
       "      <td>17.00000</td>\n",
       "      <td>0.000000</td>\n",
       "      <td>1.000000</td>\n",
       "      <td>0.000000</td>\n",
       "      <td>0.000000</td>\n",
       "      <td>-3.400000</td>\n",
       "      <td>92.201000</td>\n",
       "      <td>-50.800000</td>\n",
       "      <td>0.634000</td>\n",
       "      <td>4963.600000</td>\n",
       "    </tr>\n",
       "    <tr>\n",
       "      <th>25%</th>\n",
       "      <td>32.00000</td>\n",
       "      <td>102.000000</td>\n",
       "      <td>1.000000</td>\n",
       "      <td>999.000000</td>\n",
       "      <td>0.000000</td>\n",
       "      <td>-1.800000</td>\n",
       "      <td>93.075000</td>\n",
       "      <td>-42.700000</td>\n",
       "      <td>1.344000</td>\n",
       "      <td>5099.100000</td>\n",
       "    </tr>\n",
       "    <tr>\n",
       "      <th>50%</th>\n",
       "      <td>38.00000</td>\n",
       "      <td>180.000000</td>\n",
       "      <td>2.000000</td>\n",
       "      <td>999.000000</td>\n",
       "      <td>0.000000</td>\n",
       "      <td>1.100000</td>\n",
       "      <td>93.749000</td>\n",
       "      <td>-41.800000</td>\n",
       "      <td>4.857000</td>\n",
       "      <td>5191.000000</td>\n",
       "    </tr>\n",
       "    <tr>\n",
       "      <th>75%</th>\n",
       "      <td>47.00000</td>\n",
       "      <td>319.000000</td>\n",
       "      <td>3.000000</td>\n",
       "      <td>999.000000</td>\n",
       "      <td>0.000000</td>\n",
       "      <td>1.400000</td>\n",
       "      <td>93.994000</td>\n",
       "      <td>-36.400000</td>\n",
       "      <td>4.961000</td>\n",
       "      <td>5228.100000</td>\n",
       "    </tr>\n",
       "    <tr>\n",
       "      <th>max</th>\n",
       "      <td>98.00000</td>\n",
       "      <td>4918.000000</td>\n",
       "      <td>56.000000</td>\n",
       "      <td>999.000000</td>\n",
       "      <td>7.000000</td>\n",
       "      <td>1.400000</td>\n",
       "      <td>94.767000</td>\n",
       "      <td>-26.900000</td>\n",
       "      <td>5.045000</td>\n",
       "      <td>5228.100000</td>\n",
       "    </tr>\n",
       "  </tbody>\n",
       "</table>\n",
       "</div>"
      ],
      "text/plain": [
       "               age      duration      campaign         pdays      previous   \n",
       "count  41188.00000  41188.000000  41188.000000  41188.000000  41188.000000  \\\n",
       "mean      40.02406    258.285010      2.567593    962.475454      0.172963   \n",
       "std       10.42125    259.279249      2.770014    186.910907      0.494901   \n",
       "min       17.00000      0.000000      1.000000      0.000000      0.000000   \n",
       "25%       32.00000    102.000000      1.000000    999.000000      0.000000   \n",
       "50%       38.00000    180.000000      2.000000    999.000000      0.000000   \n",
       "75%       47.00000    319.000000      3.000000    999.000000      0.000000   \n",
       "max       98.00000   4918.000000     56.000000    999.000000      7.000000   \n",
       "\n",
       "       emp.var.rate  cons.price.idx  cons.conf.idx     euribor3m   nr.employed  \n",
       "count  41188.000000    41188.000000   41188.000000  41188.000000  41188.000000  \n",
       "mean       0.081886       93.575664     -40.502600      3.621291   5167.035911  \n",
       "std        1.570960        0.578840       4.628198      1.734447     72.251528  \n",
       "min       -3.400000       92.201000     -50.800000      0.634000   4963.600000  \n",
       "25%       -1.800000       93.075000     -42.700000      1.344000   5099.100000  \n",
       "50%        1.100000       93.749000     -41.800000      4.857000   5191.000000  \n",
       "75%        1.400000       93.994000     -36.400000      4.961000   5228.100000  \n",
       "max        1.400000       94.767000     -26.900000      5.045000   5228.100000  "
      ]
     },
     "execution_count": 8,
     "metadata": {},
     "output_type": "execute_result"
    }
   ],
   "source": [
    "banking_df.describe()"
   ]
  },
  {
   "cell_type": "code",
   "execution_count": 9,
   "id": "52afdaeb",
   "metadata": {},
   "outputs": [],
   "source": [
    "banking_df[\"y\"] = banking_df[\"y\"].apply(lambda x: 1 if x==\"yes\" else 0)"
   ]
  },
  {
   "cell_type": "code",
   "execution_count": 10,
   "id": "665de662",
   "metadata": {},
   "outputs": [],
   "source": [
    "train_df = banking_df.sample(frac=0.85, random_state=417)\n",
    "test_df = banking_df.drop(train_df.index)\n"
   ]
  },
  {
   "cell_type": "code",
   "execution_count": 11,
   "id": "a2137c23",
   "metadata": {},
   "outputs": [
    {
     "name": "stdout",
     "output_type": "stream",
     "text": [
      "y\n",
      "0    0.887889\n",
      "1    0.112111\n",
      "Name: proportion, dtype: float64\n",
      "y\n",
      "0    0.884267\n",
      "1    0.115733\n",
      "Name: proportion, dtype: float64\n"
     ]
    }
   ],
   "source": [
    "print(train_df[\"y\"].value_counts(normalize=True))\n",
    "print(test_df[\"y\"].value_counts(normalize=True))"
   ]
  },
  {
   "cell_type": "code",
   "execution_count": 12,
   "id": "32cf29d4",
   "metadata": {},
   "outputs": [],
   "source": [
    "X_train = train_df.drop(\"y\", axis=1)\n",
    "y_train = train_df[\"y\"]"
   ]
  },
  {
   "cell_type": "code",
   "execution_count": 13,
   "id": "c1d1f59f",
   "metadata": {},
   "outputs": [],
   "source": [
    "X_test = test_df.drop(\"y\", axis=1)\n",
    "y_test = test_df[\"y\"]"
   ]
  },
  {
   "cell_type": "markdown",
   "id": "f5b4b427",
   "metadata": {},
   "source": [
    "## k-NN for one feature"
   ]
  },
  {
   "cell_type": "markdown",
   "id": "cf4c2a24",
   "metadata": {},
   "source": [
    "Now that we have our training and test sets, we can implement our algorithm!\n",
    "\n",
    "Before we begin, we need to select a distance metric to calculate the distance between observations."
   ]
  },
  {
   "cell_type": "code",
   "execution_count": 14,
   "id": "e1bdf158",
   "metadata": {},
   "outputs": [],
   "source": [
    "# Calculate the Euclidean distance between the single_test_input and every observation in X_train for the given feature. Save the distances in a new column, distance, in X_train.\n",
    "def knn(feature, single_test_input, k):\n",
    "    X_train['distance'] = abs(X_train[feature] - single_test_input[feature])\n",
    "# For the k rows in distance with the smallest distance values, identify the most common label for the same rows in y_train. Save the label to the variable prediction\n",
    "    prediction = y_train[X_train[\"distance\"].nsmallest(n=k).index].mode()[0]\n",
    "    return prediction"
   ]
  },
  {
   "cell_type": "code",
   "execution_count": 15,
   "id": "586134c1",
   "metadata": {},
   "outputs": [
    {
     "name": "stdout",
     "output_type": "stream",
     "text": [
      "Predicted label: 0\n"
     ]
    }
   ],
   "source": [
    "# Call the function, knn() with the following arguments: feature = \"age\". For single_test_input, select a random observation from X_test.k = 3.\n",
    "model_prediction = knn(\"age\", X_test.iloc[417], 3)\n",
    "print(f\"Predicted label: {model_prediction}\")"
   ]
  },
  {
   "cell_type": "code",
   "execution_count": 16,
   "id": "b6b51bea",
   "metadata": {},
   "outputs": [
    {
     "name": "stdout",
     "output_type": "stream",
     "text": [
      "Actual label: 0\n"
     ]
    }
   ],
   "source": [
    "# Print the true label (y_test) corresponding to the single_test_input used above.\n",
    "print(f\"Actual label: {y_test.iloc[417]}\")"
   ]
  },
  {
   "cell_type": "markdown",
   "id": "bfc3cce9",
   "metadata": {},
   "source": [
    "Yes, the prediction and actual label are the same, 0"
   ]
  },
  {
   "cell_type": "markdown",
   "id": "48210dcf",
   "metadata": {},
   "source": [
    "### Using knn on the test set"
   ]
  },
  {
   "cell_type": "markdown",
   "id": "cb31effd",
   "metadata": {},
   "source": [
    "#### Using Age"
   ]
  },
  {
   "cell_type": "markdown",
   "id": "f2f67999",
   "metadata": {},
   "source": [
    "Use knn() for every row in X_test. Store the predictions in a new column, age_predicted_y, in X_test. Use the same arguments for knn() as before:\n",
    "feature = \"age\", \n",
    " k = 3."
   ]
  },
  {
   "cell_type": "code",
   "execution_count": 17,
   "id": "ed51378e",
   "metadata": {},
   "outputs": [],
   "source": [
    "X_test[\"age_predicted_y\"] = X_test.apply(lambda x: knn(\"age\", x, 3), axis=1)"
   ]
  },
  {
   "cell_type": "code",
   "execution_count": 18,
   "id": "2bad460b",
   "metadata": {},
   "outputs": [],
   "source": [
    "# Testing the models accuracy\n",
    "model_accuracy = (X_test[\"age_predicted_y\"] == y_test).value_counts(normalize=True)[True]*100"
   ]
  },
  {
   "cell_type": "code",
   "execution_count": 19,
   "id": "292e45c9",
   "metadata": {},
   "outputs": [
    {
     "name": "stdout",
     "output_type": "stream",
     "text": [
      "Accuracy of model trained on the column 'age': 83.09%\n"
     ]
    }
   ],
   "source": [
    "# Print out the models accuracy\n",
    "print(f\"Accuracy of model trained on the column 'age': {model_accuracy:.2f}%\")"
   ]
  },
  {
   "cell_type": "markdown",
   "id": "f35e60f7",
   "metadata": {},
   "source": [
    "We can see the model has a fairly good accuracy when using age to predict"
   ]
  },
  {
   "cell_type": "markdown",
   "id": "24fa8ad9",
   "metadata": {},
   "source": [
    "#### Using Campaign"
   ]
  },
  {
   "cell_type": "markdown",
   "id": "9a898663",
   "metadata": {},
   "source": [
    "Use knn() for every row in X_test. Store the predictions in a new column, campaign_predicted_y, in X_test. Use the same arguments for knn() as before: feature = \"campaign\", k = 3."
   ]
  },
  {
   "cell_type": "code",
   "execution_count": 20,
   "id": "5498ee09",
   "metadata": {},
   "outputs": [],
   "source": [
    "X_test[\"campaign_predicted_y\"] = X_test.apply(lambda x: knn(\"campaign\", x, 3), axis=1)"
   ]
  },
  {
   "cell_type": "code",
   "execution_count": 21,
   "id": "8851c2b2",
   "metadata": {},
   "outputs": [],
   "source": [
    "# Testing the models accuracy\n",
    "model_accuracy1 = (X_test[\"campaign_predicted_y\"] == y_test).value_counts(normalize=True)[True]*100"
   ]
  },
  {
   "cell_type": "code",
   "execution_count": 22,
   "id": "292ca65b",
   "metadata": {},
   "outputs": [
    {
     "name": "stdout",
     "output_type": "stream",
     "text": [
      "Accuracy of model trained on the column 'campaign': 83.09%\n"
     ]
    }
   ],
   "source": [
    "# Print out the models accuracy\n",
    "print(f\"Accuracy of model trained on the column 'campaign': {model_accuracy:.2f}%\")"
   ]
  },
  {
   "cell_type": "markdown",
   "id": "2d6580ee",
   "metadata": {},
   "source": [
    "We can see that Campaign is slightly better than age and also a good predictor"
   ]
  },
  {
   "cell_type": "markdown",
   "id": "0b905b63",
   "metadata": {},
   "source": [
    "### Using categorical values"
   ]
  },
  {
   "cell_type": "markdown",
   "id": "bb887d8f",
   "metadata": {},
   "source": [
    "First of all we have to use one-hot encoding on our categorical variables before we can use them for our model"
   ]
  },
  {
   "cell_type": "markdown",
   "id": "1308998a",
   "metadata": {},
   "source": [
    "#### Marital"
   ]
  },
  {
   "cell_type": "code",
   "execution_count": 23,
   "id": "daff57cc",
   "metadata": {},
   "outputs": [],
   "source": [
    "# Create a copy of our data\n",
    "banking_df_copy = banking_df.copy()"
   ]
  },
  {
   "cell_type": "code",
   "execution_count": 24,
   "id": "eda08b31",
   "metadata": {},
   "outputs": [],
   "source": [
    "# Using pandas get dummies for our encoding\n",
    "banking_df_copy = pd.get_dummies(data = banking_df_copy, columns = ['marital'], drop_first = True)"
   ]
  },
  {
   "cell_type": "code",
   "execution_count": 25,
   "id": "722d2121",
   "metadata": {},
   "outputs": [
    {
     "data": {
      "text/html": [
       "<div>\n",
       "<style scoped>\n",
       "    .dataframe tbody tr th:only-of-type {\n",
       "        vertical-align: middle;\n",
       "    }\n",
       "\n",
       "    .dataframe tbody tr th {\n",
       "        vertical-align: top;\n",
       "    }\n",
       "\n",
       "    .dataframe thead th {\n",
       "        text-align: right;\n",
       "    }\n",
       "</style>\n",
       "<table border=\"1\" class=\"dataframe\">\n",
       "  <thead>\n",
       "    <tr style=\"text-align: right;\">\n",
       "      <th></th>\n",
       "      <th>age</th>\n",
       "      <th>job</th>\n",
       "      <th>education</th>\n",
       "      <th>default</th>\n",
       "      <th>housing</th>\n",
       "      <th>loan</th>\n",
       "      <th>contact</th>\n",
       "      <th>month</th>\n",
       "      <th>day_of_week</th>\n",
       "      <th>duration</th>\n",
       "      <th>...</th>\n",
       "      <th>poutcome</th>\n",
       "      <th>emp.var.rate</th>\n",
       "      <th>cons.price.idx</th>\n",
       "      <th>cons.conf.idx</th>\n",
       "      <th>euribor3m</th>\n",
       "      <th>nr.employed</th>\n",
       "      <th>y</th>\n",
       "      <th>marital_married</th>\n",
       "      <th>marital_single</th>\n",
       "      <th>marital_unknown</th>\n",
       "    </tr>\n",
       "  </thead>\n",
       "  <tbody>\n",
       "    <tr>\n",
       "      <th>0</th>\n",
       "      <td>56</td>\n",
       "      <td>housemaid</td>\n",
       "      <td>basic.4y</td>\n",
       "      <td>no</td>\n",
       "      <td>no</td>\n",
       "      <td>no</td>\n",
       "      <td>telephone</td>\n",
       "      <td>may</td>\n",
       "      <td>mon</td>\n",
       "      <td>261</td>\n",
       "      <td>...</td>\n",
       "      <td>nonexistent</td>\n",
       "      <td>1.1</td>\n",
       "      <td>93.994</td>\n",
       "      <td>-36.4</td>\n",
       "      <td>4.857</td>\n",
       "      <td>5191.0</td>\n",
       "      <td>0</td>\n",
       "      <td>True</td>\n",
       "      <td>False</td>\n",
       "      <td>False</td>\n",
       "    </tr>\n",
       "    <tr>\n",
       "      <th>1</th>\n",
       "      <td>57</td>\n",
       "      <td>services</td>\n",
       "      <td>high.school</td>\n",
       "      <td>unknown</td>\n",
       "      <td>no</td>\n",
       "      <td>no</td>\n",
       "      <td>telephone</td>\n",
       "      <td>may</td>\n",
       "      <td>mon</td>\n",
       "      <td>149</td>\n",
       "      <td>...</td>\n",
       "      <td>nonexistent</td>\n",
       "      <td>1.1</td>\n",
       "      <td>93.994</td>\n",
       "      <td>-36.4</td>\n",
       "      <td>4.857</td>\n",
       "      <td>5191.0</td>\n",
       "      <td>0</td>\n",
       "      <td>True</td>\n",
       "      <td>False</td>\n",
       "      <td>False</td>\n",
       "    </tr>\n",
       "    <tr>\n",
       "      <th>2</th>\n",
       "      <td>37</td>\n",
       "      <td>services</td>\n",
       "      <td>high.school</td>\n",
       "      <td>no</td>\n",
       "      <td>yes</td>\n",
       "      <td>no</td>\n",
       "      <td>telephone</td>\n",
       "      <td>may</td>\n",
       "      <td>mon</td>\n",
       "      <td>226</td>\n",
       "      <td>...</td>\n",
       "      <td>nonexistent</td>\n",
       "      <td>1.1</td>\n",
       "      <td>93.994</td>\n",
       "      <td>-36.4</td>\n",
       "      <td>4.857</td>\n",
       "      <td>5191.0</td>\n",
       "      <td>0</td>\n",
       "      <td>True</td>\n",
       "      <td>False</td>\n",
       "      <td>False</td>\n",
       "    </tr>\n",
       "    <tr>\n",
       "      <th>3</th>\n",
       "      <td>40</td>\n",
       "      <td>admin.</td>\n",
       "      <td>basic.6y</td>\n",
       "      <td>no</td>\n",
       "      <td>no</td>\n",
       "      <td>no</td>\n",
       "      <td>telephone</td>\n",
       "      <td>may</td>\n",
       "      <td>mon</td>\n",
       "      <td>151</td>\n",
       "      <td>...</td>\n",
       "      <td>nonexistent</td>\n",
       "      <td>1.1</td>\n",
       "      <td>93.994</td>\n",
       "      <td>-36.4</td>\n",
       "      <td>4.857</td>\n",
       "      <td>5191.0</td>\n",
       "      <td>0</td>\n",
       "      <td>True</td>\n",
       "      <td>False</td>\n",
       "      <td>False</td>\n",
       "    </tr>\n",
       "    <tr>\n",
       "      <th>4</th>\n",
       "      <td>56</td>\n",
       "      <td>services</td>\n",
       "      <td>high.school</td>\n",
       "      <td>no</td>\n",
       "      <td>no</td>\n",
       "      <td>yes</td>\n",
       "      <td>telephone</td>\n",
       "      <td>may</td>\n",
       "      <td>mon</td>\n",
       "      <td>307</td>\n",
       "      <td>...</td>\n",
       "      <td>nonexistent</td>\n",
       "      <td>1.1</td>\n",
       "      <td>93.994</td>\n",
       "      <td>-36.4</td>\n",
       "      <td>4.857</td>\n",
       "      <td>5191.0</td>\n",
       "      <td>0</td>\n",
       "      <td>True</td>\n",
       "      <td>False</td>\n",
       "      <td>False</td>\n",
       "    </tr>\n",
       "    <tr>\n",
       "      <th>...</th>\n",
       "      <td>...</td>\n",
       "      <td>...</td>\n",
       "      <td>...</td>\n",
       "      <td>...</td>\n",
       "      <td>...</td>\n",
       "      <td>...</td>\n",
       "      <td>...</td>\n",
       "      <td>...</td>\n",
       "      <td>...</td>\n",
       "      <td>...</td>\n",
       "      <td>...</td>\n",
       "      <td>...</td>\n",
       "      <td>...</td>\n",
       "      <td>...</td>\n",
       "      <td>...</td>\n",
       "      <td>...</td>\n",
       "      <td>...</td>\n",
       "      <td>...</td>\n",
       "      <td>...</td>\n",
       "      <td>...</td>\n",
       "      <td>...</td>\n",
       "    </tr>\n",
       "    <tr>\n",
       "      <th>41183</th>\n",
       "      <td>73</td>\n",
       "      <td>retired</td>\n",
       "      <td>professional.course</td>\n",
       "      <td>no</td>\n",
       "      <td>yes</td>\n",
       "      <td>no</td>\n",
       "      <td>cellular</td>\n",
       "      <td>nov</td>\n",
       "      <td>fri</td>\n",
       "      <td>334</td>\n",
       "      <td>...</td>\n",
       "      <td>nonexistent</td>\n",
       "      <td>-1.1</td>\n",
       "      <td>94.767</td>\n",
       "      <td>-50.8</td>\n",
       "      <td>1.028</td>\n",
       "      <td>4963.6</td>\n",
       "      <td>1</td>\n",
       "      <td>True</td>\n",
       "      <td>False</td>\n",
       "      <td>False</td>\n",
       "    </tr>\n",
       "    <tr>\n",
       "      <th>41184</th>\n",
       "      <td>46</td>\n",
       "      <td>blue-collar</td>\n",
       "      <td>professional.course</td>\n",
       "      <td>no</td>\n",
       "      <td>no</td>\n",
       "      <td>no</td>\n",
       "      <td>cellular</td>\n",
       "      <td>nov</td>\n",
       "      <td>fri</td>\n",
       "      <td>383</td>\n",
       "      <td>...</td>\n",
       "      <td>nonexistent</td>\n",
       "      <td>-1.1</td>\n",
       "      <td>94.767</td>\n",
       "      <td>-50.8</td>\n",
       "      <td>1.028</td>\n",
       "      <td>4963.6</td>\n",
       "      <td>0</td>\n",
       "      <td>True</td>\n",
       "      <td>False</td>\n",
       "      <td>False</td>\n",
       "    </tr>\n",
       "    <tr>\n",
       "      <th>41185</th>\n",
       "      <td>56</td>\n",
       "      <td>retired</td>\n",
       "      <td>university.degree</td>\n",
       "      <td>no</td>\n",
       "      <td>yes</td>\n",
       "      <td>no</td>\n",
       "      <td>cellular</td>\n",
       "      <td>nov</td>\n",
       "      <td>fri</td>\n",
       "      <td>189</td>\n",
       "      <td>...</td>\n",
       "      <td>nonexistent</td>\n",
       "      <td>-1.1</td>\n",
       "      <td>94.767</td>\n",
       "      <td>-50.8</td>\n",
       "      <td>1.028</td>\n",
       "      <td>4963.6</td>\n",
       "      <td>0</td>\n",
       "      <td>True</td>\n",
       "      <td>False</td>\n",
       "      <td>False</td>\n",
       "    </tr>\n",
       "    <tr>\n",
       "      <th>41186</th>\n",
       "      <td>44</td>\n",
       "      <td>technician</td>\n",
       "      <td>professional.course</td>\n",
       "      <td>no</td>\n",
       "      <td>no</td>\n",
       "      <td>no</td>\n",
       "      <td>cellular</td>\n",
       "      <td>nov</td>\n",
       "      <td>fri</td>\n",
       "      <td>442</td>\n",
       "      <td>...</td>\n",
       "      <td>nonexistent</td>\n",
       "      <td>-1.1</td>\n",
       "      <td>94.767</td>\n",
       "      <td>-50.8</td>\n",
       "      <td>1.028</td>\n",
       "      <td>4963.6</td>\n",
       "      <td>1</td>\n",
       "      <td>True</td>\n",
       "      <td>False</td>\n",
       "      <td>False</td>\n",
       "    </tr>\n",
       "    <tr>\n",
       "      <th>41187</th>\n",
       "      <td>74</td>\n",
       "      <td>retired</td>\n",
       "      <td>professional.course</td>\n",
       "      <td>no</td>\n",
       "      <td>yes</td>\n",
       "      <td>no</td>\n",
       "      <td>cellular</td>\n",
       "      <td>nov</td>\n",
       "      <td>fri</td>\n",
       "      <td>239</td>\n",
       "      <td>...</td>\n",
       "      <td>failure</td>\n",
       "      <td>-1.1</td>\n",
       "      <td>94.767</td>\n",
       "      <td>-50.8</td>\n",
       "      <td>1.028</td>\n",
       "      <td>4963.6</td>\n",
       "      <td>0</td>\n",
       "      <td>True</td>\n",
       "      <td>False</td>\n",
       "      <td>False</td>\n",
       "    </tr>\n",
       "  </tbody>\n",
       "</table>\n",
       "<p>41188 rows × 23 columns</p>\n",
       "</div>"
      ],
      "text/plain": [
       "       age          job            education  default housing loan    contact   \n",
       "0       56    housemaid             basic.4y       no      no   no  telephone  \\\n",
       "1       57     services          high.school  unknown      no   no  telephone   \n",
       "2       37     services          high.school       no     yes   no  telephone   \n",
       "3       40       admin.             basic.6y       no      no   no  telephone   \n",
       "4       56     services          high.school       no      no  yes  telephone   \n",
       "...    ...          ...                  ...      ...     ...  ...        ...   \n",
       "41183   73      retired  professional.course       no     yes   no   cellular   \n",
       "41184   46  blue-collar  professional.course       no      no   no   cellular   \n",
       "41185   56      retired    university.degree       no     yes   no   cellular   \n",
       "41186   44   technician  professional.course       no      no   no   cellular   \n",
       "41187   74      retired  professional.course       no     yes   no   cellular   \n",
       "\n",
       "      month day_of_week  duration  ...     poutcome  emp.var.rate   \n",
       "0       may         mon       261  ...  nonexistent           1.1  \\\n",
       "1       may         mon       149  ...  nonexistent           1.1   \n",
       "2       may         mon       226  ...  nonexistent           1.1   \n",
       "3       may         mon       151  ...  nonexistent           1.1   \n",
       "4       may         mon       307  ...  nonexistent           1.1   \n",
       "...     ...         ...       ...  ...          ...           ...   \n",
       "41183   nov         fri       334  ...  nonexistent          -1.1   \n",
       "41184   nov         fri       383  ...  nonexistent          -1.1   \n",
       "41185   nov         fri       189  ...  nonexistent          -1.1   \n",
       "41186   nov         fri       442  ...  nonexistent          -1.1   \n",
       "41187   nov         fri       239  ...      failure          -1.1   \n",
       "\n",
       "       cons.price.idx cons.conf.idx  euribor3m  nr.employed  y   \n",
       "0              93.994         -36.4      4.857       5191.0  0  \\\n",
       "1              93.994         -36.4      4.857       5191.0  0   \n",
       "2              93.994         -36.4      4.857       5191.0  0   \n",
       "3              93.994         -36.4      4.857       5191.0  0   \n",
       "4              93.994         -36.4      4.857       5191.0  0   \n",
       "...               ...           ...        ...          ... ..   \n",
       "41183          94.767         -50.8      1.028       4963.6  1   \n",
       "41184          94.767         -50.8      1.028       4963.6  0   \n",
       "41185          94.767         -50.8      1.028       4963.6  0   \n",
       "41186          94.767         -50.8      1.028       4963.6  1   \n",
       "41187          94.767         -50.8      1.028       4963.6  0   \n",
       "\n",
       "       marital_married  marital_single  marital_unknown  \n",
       "0                 True           False            False  \n",
       "1                 True           False            False  \n",
       "2                 True           False            False  \n",
       "3                 True           False            False  \n",
       "4                 True           False            False  \n",
       "...                ...             ...              ...  \n",
       "41183             True           False            False  \n",
       "41184             True           False            False  \n",
       "41185             True           False            False  \n",
       "41186             True           False            False  \n",
       "41187             True           False            False  \n",
       "\n",
       "[41188 rows x 23 columns]"
      ]
     },
     "execution_count": 25,
     "metadata": {},
     "output_type": "execute_result"
    }
   ],
   "source": [
    "banking_df_copy"
   ]
  },
  {
   "cell_type": "markdown",
   "id": "d96cca7c",
   "metadata": {},
   "source": [
    "We are going to use age, campaign, marital_married and marital_single for our model"
   ]
  },
  {
   "cell_type": "code",
   "execution_count": 26,
   "id": "44a21ec3",
   "metadata": {},
   "outputs": [],
   "source": [
    "train_df = banking_df_copy.sample(frac=0.85, random_state=417)\n",
    "test_df = banking_df_copy.drop(train_df.index)"
   ]
  },
  {
   "cell_type": "code",
   "execution_count": 27,
   "id": "98cf79e6",
   "metadata": {},
   "outputs": [],
   "source": [
    "X_train = train_df.drop(\"y\", axis=1)\n",
    "y_train = train_df[\"y\"]"
   ]
  },
  {
   "cell_type": "code",
   "execution_count": 28,
   "id": "0535856c",
   "metadata": {},
   "outputs": [],
   "source": [
    "X_test = test_df.drop(\"y\", axis=1)\n",
    "y_test = test_df[\"y\"]"
   ]
  },
  {
   "cell_type": "markdown",
   "id": "9ff20fc1",
   "metadata": {},
   "source": [
    "Create a function knn() that has the following parameters: features, single_test_input, k\n"
   ]
  },
  {
   "cell_type": "markdown",
   "id": "f4b29bc6",
   "metadata": {},
   "source": [
    "Inside the function: Calculate the Euclidean distance between the single_test_input and every observation in X_train for the given features. Save the distances in a new column, distance, in X_train."
   ]
  },
  {
   "cell_type": "code",
   "execution_count": 29,
   "id": "5dcc3531",
   "metadata": {},
   "outputs": [],
   "source": [
    "def knn(features, single_test_input, k):\n",
    "    squared_distance = 0\n",
    "    for feature in features:\n",
    "        if isinstance(single_test_input[feature], pd.Series):\n",
    "            squared_distance += (X_train[feature].astype(int) - single_test_input[feature].astype(int))**2\n",
    "        else:\n",
    "            squared_distance += (X_train[feature].astype(int) - single_test_input[feature])**2\n",
    "    X_train[\"distance\"] = squared_distance**0.5\n",
    "#For the k rows in distance with the smallest distance values, identify the most common label for the same rows in y_train. Save the label to the variable prediction. Return prediction.\n",
    "    prediction = y_train[X_train[\"distance\"].nsmallest(n=k).index].mode()[0]\n",
    "    return prediction\n"
   ]
  },
  {
   "cell_type": "code",
   "execution_count": 30,
   "id": "21f350b6",
   "metadata": {},
   "outputs": [
    {
     "name": "stdout",
     "output_type": "stream",
     "text": [
      "Predicted label: 0\n",
      "Actual label: 0\n"
     ]
    }
   ],
   "source": [
    "model_prediction2 = knn([\"age\", \"campaign\", \"marital_married\", \"marital_single\"], X_test.iloc[417], 3)\n",
    "print(f\"Predicted label: {model_prediction2}\")\n",
    "print(f\"Actual label: {y_test.iloc[417]}\")\n"
   ]
  },
  {
   "cell_type": "code",
   "execution_count": 31,
   "id": "380e8fb3",
   "metadata": {},
   "outputs": [],
   "source": [
    "X_test[\"predicted_y\"] = X_test.apply(lambda x: knn([\"age\", \"campaign\", \"marital_married\", \"marital_single\"], x, 3), axis=1)"
   ]
  },
  {
   "cell_type": "code",
   "execution_count": 32,
   "id": "a5ed0104",
   "metadata": {},
   "outputs": [
    {
     "name": "stdout",
     "output_type": "stream",
     "text": [
      "Accuracy of the model: 85.34%\n"
     ]
    }
   ],
   "source": [
    "model_accuracy = (X_test[\"predicted_y\"] == y_test).value_counts(normalize=True)[True]*100\n",
    "print(f\"Accuracy of the model: {model_accuracy:.2f}%\")"
   ]
  },
  {
   "cell_type": "markdown",
   "id": "0740714d",
   "metadata": {},
   "source": [
    "#### Scaling our Age and Campaign columns"
   ]
  },
  {
   "cell_type": "code",
   "execution_count": 33,
   "id": "fe27b79c",
   "metadata": {},
   "outputs": [],
   "source": [
    "features = [\"age\", \"campaign\"]"
   ]
  },
  {
   "cell_type": "code",
   "execution_count": 34,
   "id": "82794969",
   "metadata": {},
   "outputs": [],
   "source": [
    "for feature in features:\n",
    "    X_train[feature] = (X_train[feature] - X_train[feature].min())/(X_train[feature].max() - X_train[feature].min())\n",
    "    X_test[feature] = (X_test[feature] - X_train[feature].min())/(X_train[feature].max() - X_train[feature].min())\n",
    "    "
   ]
  },
  {
   "cell_type": "code",
   "execution_count": 35,
   "id": "24aaf067",
   "metadata": {},
   "outputs": [],
   "source": [
    "X_test[\"predicted_y\"] = X_test.apply(lambda x: knn([\"age\", \"campaign\", \"marital_married\", \"marital_single\"], x, 3), axis=1)\n"
   ]
  },
  {
   "cell_type": "code",
   "execution_count": 36,
   "id": "0524fcf3",
   "metadata": {},
   "outputs": [],
   "source": [
    "model_accuracy = (X_test[\"predicted_y\"] == y_test).value_counts(normalize=True)[True]*100"
   ]
  },
  {
   "cell_type": "code",
   "execution_count": 37,
   "id": "1935e0af",
   "metadata": {},
   "outputs": [
    {
     "name": "stdout",
     "output_type": "stream",
     "text": [
      "Accuracy of the model: 88.43%\n"
     ]
    }
   ],
   "source": [
    "print(f\"Accuracy of the model: {model_accuracy:.2f}%\")"
   ]
  },
  {
   "cell_type": "markdown",
   "id": "9e97f89f",
   "metadata": {},
   "source": [
    "Their was a slight improvement in accuracy after Scaling our data"
   ]
  }
 ],
 "metadata": {
  "kernelspec": {
   "display_name": "Python 3 (ipykernel)",
   "language": "python",
   "name": "python3"
  },
  "language_info": {
   "codemirror_mode": {
    "name": "ipython",
    "version": 3
   },
   "file_extension": ".py",
   "mimetype": "text/x-python",
   "name": "python",
   "nbconvert_exporter": "python",
   "pygments_lexer": "ipython3",
   "version": "3.9.13"
  }
 },
 "nbformat": 4,
 "nbformat_minor": 5
}
